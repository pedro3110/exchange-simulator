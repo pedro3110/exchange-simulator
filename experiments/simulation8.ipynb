{
 "cells": [
  {
   "cell_type": "code",
   "execution_count": 1,
   "metadata": {},
   "outputs": [],
   "source": [
    "%load_ext autoreload\n",
    "from nb_config import *"
   ]
  },
  {
   "cell_type": "code",
   "execution_count": 2,
   "metadata": {},
   "outputs": [],
   "source": [
    "def simulate(current_time, start_time, end_time, agents, receiver_agents, agents_delay_map, \n",
    "             contracts, delay_order, delay_notification):\n",
    "    start_simulation = time.time()\n",
    "    \n",
    "    market_input_ports = ['in_agent_regulator', 'in_agent_journal']\n",
    "    market_output_ports = ['out_next_journal_agent', 'out_notify_order_journal_agent', 'out_next_regulator_agent']\n",
    "    orderbooks_map = {\n",
    "        contract: OrderbookVersion1('ob_' + contract, contract, delay_order, delay_notification)\n",
    "        for contract in contracts}\n",
    "    market = Version2Market('market', current_time, float('inf'), orderbooks_map.values(),\n",
    "                            market_input_ports, market_output_ports, agents_delay_map,\n",
    "                            start_time=start_time, end_time=end_time)\n",
    "    connections = [((agent.identifier, 'out_order'), (market.identifier, 'in_agent_regulator'))\n",
    "                   for agent in agents]\n",
    "    # Reactive agent observes the output from journal\n",
    "    connections += [((market.identifier, 'out_next_journal_agent'), (agent.identifier, 'in_next'))\n",
    "                    for agent in receiver_agents]\n",
    "    connections += [((market.identifier, 'out_notify_order_journal_agent'), (agent.identifier, 'in_notify_order'))\n",
    "                    for agent in receiver_agents]\n",
    "    connections += [((market.identifier, 'out_next_regulator_agent'), (agent.identifier, 'in_notify_order'))\n",
    "                    for agent in receiver_agents]\n",
    "    m = SimpleSystem(market=market, agents=agents, connections=connections)\n",
    "    sim = Simulator(m)\n",
    "    sim.setClassicDEVS()\n",
    "    sim.simulate()\n",
    "    \n",
    "    # Get results\n",
    "    end_simulation = time.time()\n",
    "    return {\n",
    "        'time': end_simulation - start_simulation,\n",
    "        'limit_orders_history': {k: orderbooks_map[k].state.bid_ask_table.get_limit_orders_history() \n",
    "                           for k in orderbooks_map},\n",
    "        'orders_spread': {k: orderbooks_map[k].state.bid_ask_table.get_spread_history() \n",
    "                          for k in orderbooks_map},\n",
    "        'market_orders_history': {k: orderbooks_map[k].state.bid_ask_table.get_market_orders_history() \n",
    "                           for k in orderbooks_map},\n",
    "        'stop_orders_history': {k: orderbooks_map[k].state.bid_ask_table.get_stop_orders_history() \n",
    "                           for k in orderbooks_map},\n",
    "    }"
   ]
  },
  {
   "cell_type": "code",
   "execution_count": 3,
   "metadata": {},
   "outputs": [],
   "source": [
    "def get_profit(agent):\n",
    "    profit = 0\n",
    "    for n_order in agent.strategy.orders_completed.keys():\n",
    "        o = agent.strategy.orders_completed[n_order]\n",
    "        # Note: could be different from 'real profit' (from executed price made by exchange)\n",
    "        profit += (-1) * o.direction.value * o.size * o.price\n",
    "    return profit"
   ]
  },
  {
   "cell_type": "markdown",
   "metadata": {},
   "source": [
    "### Experiment"
   ]
  },
  {
   "cell_type": "code",
   "execution_count": 4,
   "metadata": {},
   "outputs": [],
   "source": [
    "current_time = 0.0\n",
    "start_time = 0.0\n",
    "end_time = 100\n",
    "\n",
    "# Setup contracts for test\n",
    "contracts = ['INTC', 'INTC']\n",
    "delay_order, delay_notification = 0, 0\n",
    "\n",
    "agents, receiver_agents = [], []\n",
    "agents_delay_map = {}\n",
    "\n",
    "########\n",
    "# AGENTS\n",
    "wakeup_distribution = functools.partial(random.expovariate, 0.5)\n",
    "n_sellers = 20\n",
    "n_buyers = 30\n",
    "\n",
    "# Params price and size\n",
    "params_buyers_price = [(-5, 4), (-3, 4), (-1, 4)]\n",
    "params_sellers_price = [(1, 4), (1, 4), (8, 4)]\n",
    "\n",
    "params_buyers_size = [1]\n",
    "params_sellers_size = [1]\n",
    "\n",
    "def get_func_price(delta, sigma):\n",
    "    def func(t):\n",
    "        base_price = 30*(1 - (t/30)**1.5 + (t/40)**2.5)\n",
    "        x = functools.partial(random.normalvariate, base_price + delta, sigma)\n",
    "        return lambda: x()\n",
    "\n",
    "    return func\n",
    "\n",
    "def get_func_size(mu):\n",
    "    def func(t):\n",
    "        # x = functools.partial(random.normalvariate, mu, sigma)\n",
    "#         return lambda: int(x())\n",
    "        return lambda: 1\n",
    "\n",
    "    return func\n",
    "\n",
    "agents_info = []\n",
    "i = 1\n",
    "for n_seller in range(n_sellers):\n",
    "    pp = params_sellers_price[n_seller % len(params_sellers_price)]\n",
    "    ps = params_sellers_size[n_seller % len(params_sellers_size)]\n",
    "    agents_info.append(\n",
    "        {'agent_id': i, 'contract': 'INTC', 'direction': -1,\n",
    "         'price_distribution': get_func_price(pp[0], pp[1]),\n",
    "         'size_distribution': get_func_size(ps)})\n",
    "    i += 1\n",
    "\n",
    "# Buyers\n",
    "for n_buyer in range(n_buyers):\n",
    "    pp = params_buyers_price[n_buyer % len(params_buyers_price)]\n",
    "    ps = params_buyers_size[n_buyer % len(params_buyers_size)]\n",
    "    agents_info.append(\n",
    "        {'agent_id': i, 'contract': 'INTC', 'direction': 1,\n",
    "         'price_distribution': get_func_price(pp[0], pp[1]),\n",
    "         'size_distribution': get_func_size(ps)}\n",
    "    )\n",
    "    i += 1\n",
    "\n",
    "# Random agents\n",
    "for agent_info in agents_info:\n",
    "    # Initialize parameters\n",
    "    agent_id = agent_info['agent_id']\n",
    "    direction = agent_info['direction']\n",
    "    contract = agent_info['contract']\n",
    "    price_distribution = agent_info['price_distribution']\n",
    "    size_distribution = agent_info['size_distribution']\n",
    "    # In common\n",
    "    exec_type = 0  # Limit\n",
    "    cancellation_timeout = 20\n",
    "\n",
    "    # Initialize agent\n",
    "    identifier = 'stc_' + str(agent_id)\n",
    "    new_agent = AgentBase(identifier=identifier, strategy=StochasticStrategy6,\n",
    "                          strategy_params={'identifier': identifier,\n",
    "                                           'wakeup_distribution': wakeup_distribution,\n",
    "                                           'cancellation_timeout': cancellation_timeout,\n",
    "                                           'direction': direction,\n",
    "                                           'price_distribution': price_distribution,\n",
    "                                           'size_distribution': size_distribution,\n",
    "                                           'initial_cash': 1000, 'max_orders': 100, \n",
    "                                           'contract': contract, 'exec_type': exec_type,\n",
    "                                           'end_time': end_time})\n",
    "    agents.append(new_agent)\n",
    "    agents_delay_map[new_agent.identifier] = 0\n",
    "    \n",
    "    # All agents receive all information (a lot of messages)\n",
    "    receiver_agents.append(new_agent)\n",
    "    \n",
    "# Impact agent\n",
    "impact_agent_id = 'impact'\n",
    "history = pd.read_csv(test_path + 'data/stop_3.csv')\n",
    "impact_agent = AgentBase(identifier=impact_agent_id, strategy=ReplayVersion3Strategy,\n",
    "                         strategy_params={\n",
    "                              'identifier': impact_agent_id, 'history': history\n",
    "                         })\n",
    "agents.append(impact_agent)\n",
    "agents_delay_map[impact_agent.identifier] = 0.0\n",
    "receiver_agents.append(impact_agent)\n",
    "\n",
    "# # Spread generator agent\n",
    "spread_agent_id = 'spread_gen'\n",
    "spread_agent = AgentBase(identifier=spread_agent_id, strategy=SpreadGeneratorVersion1,\n",
    "                         strategy_params={\n",
    "                              'identifier': spread_agent_id, \n",
    "                              'size_orders': 1,\n",
    "                              'delta_price': 5, 'max_orders': 2,\n",
    "                              'end_time': end_time\n",
    "                         })\n",
    "agents.append(spread_agent)\n",
    "agents_delay_map[spread_agent.identifier] = 0\n",
    "receiver_agents.append(spread_agent)\n",
    "\n",
    "\n",
    "#################################\n",
    "#  SAVE RESULTS\n",
    "# Simulate\n",
    "result = simulate(current_time, start_time, end_time, agents, receiver_agents, agents_delay_map, contracts,\n",
    "              delay_order, delay_notification)"
   ]
  },
  {
   "cell_type": "code",
   "execution_count": 5,
   "metadata": {},
   "outputs": [
    {
     "name": "stdout",
     "output_type": "stream",
     "text": [
      "Execution time = 40.893631\n"
     ]
    }
   ],
   "source": [
    "print(\"Execution time = %f\" % result['time'])\n",
    "\n",
    "# Limit orders\n",
    "limit_orders = result['limit_orders_history']['INTC']\n",
    "limit_orders = [(t, [(x[0], x[1]) for x in values for y in range(x[2])]) for t, values in limit_orders]\n",
    "\n",
    "stop_orders = result['stop_orders_history']['INTC']\n",
    "stop_orders = [(t, [(x[0], x[1]) for x in values for y in range(x[2])]) for t, values in stop_orders]\n",
    "\n",
    "# Spreads\n",
    "spread_list = result['orders_spread']['INTC']\n",
    "keys_spreads = [x[0] for x in spread_list]\n",
    "keys_orders = [x[0] for x in limit_orders]\n",
    "for ks in keys_orders:\n",
    "    if ks not in keys_spreads:\n",
    "        spread_list.append((ks, None))\n",
    "\n",
    "\n",
    "import pickle\n",
    "with open('snapshot_history.pkl', 'wb') as f:\n",
    "    to_pickle = {\n",
    "        'limit_orders': limit_orders,\n",
    "        'stop_orders': stop_orders,\n",
    "        'hidden_orders': [],\n",
    "        'spreads': spread_list\n",
    "    }\n",
    "    pickle.dump(to_pickle, f)"
   ]
  },
  {
   "cell_type": "code",
   "execution_count": 6,
   "metadata": {},
   "outputs": [],
   "source": [
    "# len(spread_agent.strategy.orders_completed)"
   ]
  },
  {
   "cell_type": "code",
   "execution_count": 7,
   "metadata": {},
   "outputs": [
    {
     "name": "stdout",
     "output_type": "stream",
     "text": [
      "-9115.099999999999\n"
     ]
    }
   ],
   "source": [
    "# agents[0].strategy.orders_completed\n",
    "\n",
    "total_profit = 0\n",
    "for agent in agents:\n",
    "    # print(\"Agent: %s => %f\" % (agent.identifier, get_profit(agent)))\n",
    "    try:\n",
    "        # print(agent.strategy.direction, agent.strategy.get_remaining_cash())\n",
    "        total_profit += get_profit(agent)\n",
    "    except:\n",
    "        # print('Not available')\n",
    "        total_profit += get_profit(agent)\n",
    "print(total_profit)"
   ]
  },
  {
   "cell_type": "code",
   "execution_count": 8,
   "metadata": {},
   "outputs": [],
   "source": [
    "# agents[-3].strategy.orders_completed"
   ]
  },
  {
   "cell_type": "code",
   "execution_count": 9,
   "metadata": {},
   "outputs": [],
   "source": [
    "# n_elem=1800\n",
    "# sell_orders = [y for x in to_pickle['limit_orders'][n_elem:n_elem+1] for y in x[1] if y[0] == 'Sell']\n",
    "# buy_orders = [y for x in to_pickle['limit_orders'][n_elem:n_elem+1] for y in x[1] if y[0] == 'Buy']\n",
    "\n",
    "# print(max(x[1] for x in buy_orders), len(buy_orders))\n",
    "# print(min(x[1] for x in sell_orders), len(sell_orders))"
   ]
  },
  {
   "cell_type": "code",
   "execution_count": 10,
   "metadata": {},
   "outputs": [],
   "source": [
    "# to_pickle['limit_orders'][9]"
   ]
  },
  {
   "cell_type": "code",
   "execution_count": 11,
   "metadata": {},
   "outputs": [],
   "source": [
    "# n_elem=1850\n",
    "# sell_orders = [y for x in to_pickle['limit_orders'][n_elem:n_elem+1] for y in x[1] if y[0] == 'Sell']\n",
    "# print(min(x[1] for x in sell_orders), len(sell_orders))"
   ]
  },
  {
   "cell_type": "code",
   "execution_count": null,
   "metadata": {},
   "outputs": [],
   "source": []
  },
  {
   "cell_type": "code",
   "execution_count": null,
   "metadata": {},
   "outputs": [],
   "source": []
  },
  {
   "cell_type": "code",
   "execution_count": null,
   "metadata": {},
   "outputs": [],
   "source": []
  },
  {
   "cell_type": "code",
   "execution_count": null,
   "metadata": {},
   "outputs": [],
   "source": []
  },
  {
   "cell_type": "code",
   "execution_count": null,
   "metadata": {},
   "outputs": [],
   "source": []
  },
  {
   "cell_type": "code",
   "execution_count": null,
   "metadata": {},
   "outputs": [],
   "source": []
  },
  {
   "cell_type": "code",
   "execution_count": null,
   "metadata": {},
   "outputs": [],
   "source": []
  },
  {
   "cell_type": "code",
   "execution_count": null,
   "metadata": {},
   "outputs": [],
   "source": []
  }
 ],
 "metadata": {
  "kernelspec": {
   "display_name": "Python 2",
   "language": "python",
   "name": "python2"
  },
  "language_info": {
   "codemirror_mode": {
    "name": "ipython",
    "version": 3
   },
   "file_extension": ".py",
   "mimetype": "text/x-python",
   "name": "python",
   "nbconvert_exporter": "python",
   "pygments_lexer": "ipython3",
   "version": "3.6.9"
  }
 },
 "nbformat": 4,
 "nbformat_minor": 4
}
