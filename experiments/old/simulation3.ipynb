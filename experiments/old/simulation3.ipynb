{
 "cells": [
  {
   "cell_type": "code",
   "execution_count": 1,
   "metadata": {},
   "outputs": [],
   "source": [
    "import logging\n",
    "import sys\n",
    "import unittest\n",
    "root_path = '/home/pedro/Desktop/agent-based-models/PythonPDEVS/src/'\n",
    "example_path = '/home/pedro/Desktop/agent-based-models/PythonPDEVS/examples/cda/'\n",
    "test_path = example_path + 'test/'\n",
    "sys.path.append(root_path)\n",
    "sys.path.append(example_path)\n",
    "logging.basicConfig(stream=sys.stderr, level=logging.INFO)\n",
    "formatter = logging.Formatter('%(name)s : %(message)s')"
   ]
  },
  {
   "cell_type": "code",
   "execution_count": 2,
   "metadata": {},
   "outputs": [],
   "source": [
    "from pypdevs.simulator import Simulator\n",
    "from src.system_components.orderbooks.orderbook_version1 import OrderbookVersion1\n",
    "from src.system_base.simple_system import SimpleSystem\n",
    "# from src.agent.typical_operators.stochastic_version2 import StochasticStrategy\n",
    "from src.strategies.stochastic.stochastic_version3 import StochasticStrategy3\n",
    "from src.agent.base import AgentBase\n",
    "from src.system_components.markets.version2_market import Version2Market\n",
    "from src.strategies.simple.arbitrage_1 import ArbitrageurVersion1\n",
    "import functools\n",
    "import time\n",
    "import random\n",
    "import numpy as np"
   ]
  },
  {
   "cell_type": "code",
   "execution_count": 5,
   "metadata": {},
   "outputs": [],
   "source": [
    "def simulate(current_time, start_time, end_time, agents, receiver_agents, agents_delay_map, \n",
    "             contracts, delay_order, delay_notification):\n",
    "    start_simulation = time.time()\n",
    "    \n",
    "    market_input_ports = ['in_agent_regulator', 'in_agent_journal']\n",
    "    market_output_ports = ['out_next_journal_agent', 'out_notify_order_journal_agent', 'out_next_regulator_agent']\n",
    "    orderbooks_map = {\n",
    "        contract: OrderbookVersion1('ob_' + contract, contract, delay_order, delay_notification)\n",
    "        for contract in contracts}\n",
    "    market = Version2Market('market', current_time, float('inf'), orderbooks_map.values(),\n",
    "                            market_input_ports, market_output_ports, agents_delay_map,\n",
    "                            start_time=start_time, end_time=end_time)\n",
    "    connections = [((agent.identifier, 'out_order'), (market.identifier, 'in_agent_regulator'))\n",
    "                   for agent in agents]\n",
    "    # Reactive agent observes the output from journal\n",
    "    connections += [((market.identifier, 'out_next_journal_agent'), (agent.identifier, 'in_next'))\n",
    "                    for agent in receiver_agents]\n",
    "    connections += [((market.identifier, 'out_notify_order_journal_agent'), (agent.identifier, 'in_notify_order'))\n",
    "                    for agent in receiver_agents]\n",
    "    connections += [((market.identifier, 'out_next_regulator_agent'), (agent.identifier, 'in_notify_order'))\n",
    "                    for agent in receiver_agents]\n",
    "    m = SimpleSystem(market=market, agents=agents, connections=connections)\n",
    "    sim = Simulator(m)\n",
    "    sim.setClassicDEVS()\n",
    "    sim.simulate()\n",
    "    \n",
    "    # Get results\n",
    "    end_simulation = time.time()\n",
    "    return {\n",
    "        'time': end_simulation - start_simulation,\n",
    "        'orders_history': {k: orderbooks_map[k].state.bid_ask_table.orders_history for k in orderbooks_map},\n",
    "        'orders_spread': {k: orderbooks_map[k].state.bid_ask_table.get_spread_history() for k in orderbooks_map}\n",
    "    }"
   ]
  },
  {
   "cell_type": "markdown",
   "metadata": {},
   "source": [
    "### Experiment"
   ]
  },
  {
   "cell_type": "code",
   "execution_count": 8,
   "metadata": {},
   "outputs": [
    {
     "data": {
      "text/plain": [
       "dict_keys(['INTC', 'IBM'])"
      ]
     },
     "execution_count": 8,
     "metadata": {},
     "output_type": "execute_result"
    }
   ],
   "source": [
    "start_time = 0.0\n",
    "current_time = 0.0\n",
    "\n",
    "# Setup contracts for test\n",
    "contracts = ['INTC', 'IBM']\n",
    "delay_order, delay_notification = 0, 0\n",
    "\n",
    "agents, receiver_agents = [], []\n",
    "agents_delay_map = {}\n",
    "\n",
    "end_time = 1000\n",
    "def func_time(t):\n",
    "    return np.sqrt(t)\n",
    "    \n",
    "\n",
    "# Stochastic agents\n",
    "agents_info = [\n",
    "    {'agent_id': 2, 'contract': 'IBM', 'direction': -1,\n",
    "     'price_distribution': lambda t: functools.partial(random.normalvariate, func_time(t)+25, 1)},  # spread ~ 30\n",
    "    {'agent_id': 1, 'contract': 'IBM', 'direction': 1,\n",
    "     'price_distribution': lambda t: functools.partial(random.normalvariate, func_time(t)+20, 1)},\n",
    "    # => spread(bid_IBM, ask_INTC) ~ 10\n",
    "    {'agent_id': 4, 'contract': 'INTC', 'direction': -1,\n",
    "     'price_distribution': lambda t: functools.partial(random.normalvariate, func_time(t)+14, 2)},  # spread ~ 30\n",
    "    {'agent_id': 3, 'contract': 'INTC', 'direction': 1,\n",
    "     'price_distribution': lambda t: functools.partial(random.normalvariate, func_time(t)+4, 2)}\n",
    "\n",
    "]\n",
    "wakeup_distribution = functools.partial(random.expovariate, 0.5)\n",
    "for agent_info in agents_info:\n",
    "    # Initialize parameters\n",
    "    agent_id = agent_info['agent_id']\n",
    "    direction = agent_info['direction']\n",
    "    contract = agent_info['contract']\n",
    "    price_distribution = agent_info['price_distribution']\n",
    "    # In common\n",
    "    exec_type = 0  # Limit\n",
    "    # Initialize agent\n",
    "    identifier = 'stc_' + str(agent_id)\n",
    "    new_agent = AgentBase(identifier=identifier, strategy=StochasticStrategy3,\n",
    "                          strategy_params={'identifier': identifier,\n",
    "                                           'wakeup_distribution': wakeup_distribution,\n",
    "                                           'direction': direction,\n",
    "                                           'price_distribution': price_distribution,\n",
    "                                           'contract': contract, 'exec_type': exec_type,\n",
    "                                           'end_time': end_time})\n",
    "    agents.append(new_agent)\n",
    "    agents_delay_map[new_agent.identifier] = 0\n",
    "    # All agents receive all information (a lot of messages)\n",
    "    receiver_agents.append(new_agent)\n",
    "\n",
    "# Arbitragist agent\n",
    "arbitragist_id = 'arbitragist'\n",
    "arbitragist_agent = AgentBase(identifier=arbitragist_id, strategy=ArbitrageurVersion1,\n",
    "                              strategy_params={\n",
    "                                  'identifier': arbitragist_id,\n",
    "                                  'end_time': end_time\n",
    "                              })\n",
    "agents.append(arbitragist_agent)\n",
    "agents_delay_map[arbitragist_agent.identifier] = 0.0\n",
    "receiver_agents.append(arbitragist_agent)\n",
    "\n",
    "\n",
    "# Simulate\n",
    "result = simulate(current_time, start_time, end_time, agents, receiver_agents, agents_delay_map, contracts,\n",
    "              delay_order, delay_notification)\n",
    "\n",
    "# Debug\n",
    "result['orders_history'].keys()"
   ]
  },
  {
   "cell_type": "code",
   "execution_count": 9,
   "metadata": {},
   "outputs": [],
   "source": [
    "full = result['orders_history']['INTC']\n",
    "spread_list = result['orders_spread']['INTC']\n",
    "\n",
    "# full = orderbooks_map['TSLA'].state.bid_ask_table.orders_history\n",
    "# spread_list = orderbooks_map['TSLA'].state.bid_ask_table.get_spread_history()\n",
    "\n",
    "ls = [(t, [(x[0], x[1]) for x in values]) for t, values in full]\n",
    "ls_diff = [x for x in spread_list if x[1] is not None]\n",
    "ls_diff = [(t, x[1] - x[0]) for t, x in ls_diff]\n",
    "\n",
    "import pickle\n",
    "with open('snapshot_history.pkl', 'wb') as f:\n",
    "    to_pickle = {\n",
    "        'orders': ls,\n",
    "        'spreads': ls_diff\n",
    "    }\n",
    "    pickle.dump(to_pickle, f)"
   ]
  },
  {
   "cell_type": "code",
   "execution_count": null,
   "metadata": {},
   "outputs": [],
   "source": []
  },
  {
   "cell_type": "code",
   "execution_count": null,
   "metadata": {},
   "outputs": [],
   "source": []
  },
  {
   "cell_type": "code",
   "execution_count": null,
   "metadata": {},
   "outputs": [],
   "source": []
  }
 ],
 "metadata": {
  "kernelspec": {
   "display_name": "Python 2",
   "language": "python",
   "name": "python2"
  },
  "language_info": {
   "codemirror_mode": {
    "name": "ipython",
    "version": 3
   },
   "file_extension": ".py",
   "mimetype": "text/x-python",
   "name": "python",
   "nbconvert_exporter": "python",
   "pygments_lexer": "ipython3",
   "version": "3.6.9"
  }
 },
 "nbformat": 4,
 "nbformat_minor": 4
}
