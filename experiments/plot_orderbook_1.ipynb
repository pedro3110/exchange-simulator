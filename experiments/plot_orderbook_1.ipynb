{
 "cells": [
  {
   "cell_type": "code",
   "execution_count": 1,
   "metadata": {},
   "outputs": [],
   "source": [
    "%load_ext autoreload\n",
    "from nb_config import *"
   ]
  },
  {
   "cell_type": "markdown",
   "metadata": {},
   "source": [
    "### Plot LOB"
   ]
  },
  {
   "cell_type": "code",
   "execution_count": 2,
   "metadata": {},
   "outputs": [],
   "source": [
    "import pickle\n",
    "import matplotlib.pyplot as plt\n",
    "from src.visualization.viz_orderbook1 import VizOrderbook1"
   ]
  },
  {
   "cell_type": "code",
   "execution_count": 3,
   "metadata": {},
   "outputs": [],
   "source": [
    "viz = VizOrderbook1()"
   ]
  },
  {
   "cell_type": "code",
   "execution_count": 4,
   "metadata": {},
   "outputs": [],
   "source": [
    "def get_step_from_time(d, t):\n",
    "    for i, v in enumerate(d):\n",
    "        if float(t) < float(v[0]):\n",
    "            return i\n",
    "    return len(d)"
   ]
  },
  {
   "cell_type": "code",
   "execution_count": 5,
   "metadata": {},
   "outputs": [
    {
     "name": "stdout",
     "output_type": "stream",
     "text": [
      "30.43\n"
     ]
    }
   ],
   "source": [
    "with open('snapshot_history.pkl', 'rb') as f:\n",
    "    snapshot_history = pickle.load(f)\n",
    "\n",
    "# Get all orders\n",
    "all_orders = []\n",
    "for elem in snapshot_history['limit_orders']:\n",
    "    for o in elem[1]:\n",
    "        all_orders.append(o[1])\n",
    "print(all_orders[0])"
   ]
  },
  {
   "cell_type": "code",
   "execution_count": null,
   "metadata": {},
   "outputs": [],
   "source": [
    "# Make plots\n",
    "n_bins = 40\n",
    "max_size = 50\n",
    "frame_velocity=400\n",
    "min_price, max_price = 0, max(all_orders)\n",
    "left_time = 0\n",
    "\n",
    "specific_steps =[int(i) for i in np.linspace(get_step_from_time(snapshot_history['limit_orders'], str(left_time)), \n",
    "                                             len(snapshot_history['limit_orders'])-1, \n",
    "                                             n_bins)]\n",
    "# specific_steps = [10]\n",
    "\n",
    "# Plot\n",
    "ani, animate = viz.process(snapshot_history, \n",
    "                           specific_steps, \n",
    "                           n_bins, \n",
    "                           max_size, frame_velocity, min_price, max_price)\n",
    "from IPython.display import Image\n",
    "x = ani.save('orderbook.gif', writer='imagemagick')\n",
    "Image(filename=\"orderbook.gif\")"
   ]
  },
  {
   "cell_type": "code",
   "execution_count": 7,
   "metadata": {},
   "outputs": [],
   "source": [
    "# help(animation.FuncAnimation)"
   ]
  },
  {
   "cell_type": "code",
   "execution_count": 8,
   "metadata": {},
   "outputs": [],
   "source": [
    "# help(animation.FuncAnimation)\n",
    "# help( plt.subplots)"
   ]
  },
  {
   "cell_type": "code",
   "execution_count": 9,
   "metadata": {},
   "outputs": [],
   "source": [
    "# snapshot_history['limit_orders'][13][0]\n",
    "# get_step_from_time(snapshot_history['limit_orders'], '10')\n",
    "# specific_steps"
   ]
  },
  {
   "cell_type": "code",
   "execution_count": null,
   "metadata": {},
   "outputs": [],
   "source": []
  },
  {
   "cell_type": "code",
   "execution_count": null,
   "metadata": {},
   "outputs": [],
   "source": []
  }
 ],
 "metadata": {
  "kernelspec": {
   "display_name": "Python 3",
   "language": "python",
   "name": "python3"
  },
  "language_info": {
   "codemirror_mode": {
    "name": "ipython",
    "version": 3
   },
   "file_extension": ".py",
   "mimetype": "text/x-python",
   "name": "python",
   "nbconvert_exporter": "python",
   "pygments_lexer": "ipython3",
   "version": "3.6.9"
  }
 },
 "nbformat": 4,
 "nbformat_minor": 4
}
