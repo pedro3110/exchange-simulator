{
 "cells": [
  {
   "cell_type": "code",
   "execution_count": 2,
   "metadata": {},
   "outputs": [],
   "source": [
    "import logging\n",
    "import sys\n",
    "import unittest\n",
    "root_path = '/home/pedro/Desktop/agent-based-models/PythonPDEVS/src/'\n",
    "example_path = '/home/pedro/Desktop/agent-based-models/PythonPDEVS/examples/cda/'\n",
    "test_path = example_path + 'test/'\n",
    "sys.path.append(root_path)\n",
    "sys.path.append(example_path)\n",
    "logging.basicConfig(stream=sys.stderr, level=logging.INFO)\n",
    "formatter = logging.Formatter('%(name)s : %(message)s')"
   ]
  },
  {
   "cell_type": "code",
   "execution_count": 6,
   "metadata": {},
   "outputs": [],
   "source": [
    "from pypdevs.simulator import Simulator\n",
    "from src.system_components.orderbooks.orderbook_version1 import OrderbookVersion1\n",
    "from src.system_base.simple_system import SimpleSystem\n",
    "from src.agent.typical_operators.stochastic_version2 import StochasticStrategy\n",
    "from src.agent.base import AgentBase\n",
    "from src.system_components.markets.version2_market import Version2Market\n",
    "import functools\n",
    "import time\n",
    "import random\n",
    "import numpy as np"
   ]
  },
  {
   "cell_type": "code",
   "execution_count": 7,
   "metadata": {},
   "outputs": [],
   "source": [
    "def simulate(current_time, start_time, end_time, agents, receiver_agents, agents_delay_map, \n",
    "             contracts, delay_order, delay_notification):\n",
    "    start = time.time()\n",
    "    market_input_ports = ['in_agent_regulator', 'in_agent_journal']\n",
    "    market_output_ports = ['out_next_journal_agent', 'out_notify_order_journal_agent', 'out_next_regulator_agent']\n",
    "    orderbooks_map = {\n",
    "        contract: OrderbookVersion1('ob_' + contract, contract, delay_order, delay_notification)\n",
    "        for contract in contracts}\n",
    "    market = Version2Market('market', current_time, float('inf'), orderbooks_map.values(),\n",
    "                            market_input_ports, market_output_ports, agents_delay_map,\n",
    "                            start_time=start_time, end_time=end_time)\n",
    "    connections = [((agent.identifier, 'out_order'), (market.identifier, 'in_agent_regulator'))\n",
    "                   for agent in agents]\n",
    "    # Reactive agent observes the output from journal\n",
    "    connections += [((market.identifier, 'out_next_journal_agent'), (agent.identifier, 'in_next'))\n",
    "                    for agent in receiver_agents]\n",
    "    connections += [((market.identifier, 'out_notify_order_journal_agent'), (agent.identifier, 'in_notify_order'))\n",
    "                    for agent in receiver_agents]\n",
    "    connections += [((market.identifier, 'out_next_regulator_agent'), (agent.identifier, 'in_notify_order'))\n",
    "                    for agent in receiver_agents]\n",
    "    m = SimpleSystem(market=market, agents=agents, connections=connections)\n",
    "    sim = Simulator(m)\n",
    "    sim.setClassicDEVS()\n",
    "    sim.simulate()\n",
    "    \n",
    "    # Get results\n",
    "    end = time.time()\n",
    "    return {\n",
    "        'time': end - start,\n",
    "        'orders_history': {k: orderbooks_map[k].state.bid_ask_table.orders_history for k in orderbooks_map},\n",
    "        'orders_spread': {k: orderbooks_map[k].state.bid_ask_table.get_spread_history() for k in orderbooks_map}\n",
    "    }"
   ]
  },
  {
   "cell_type": "markdown",
   "metadata": {},
   "source": [
    "### Experiment"
   ]
  },
  {
   "cell_type": "code",
   "execution_count": 12,
   "metadata": {},
   "outputs": [
    {
     "data": {
      "text/plain": [
       "dict_keys(['INTC'])"
      ]
     },
     "execution_count": 12,
     "metadata": {},
     "output_type": "execute_result"
    }
   ],
   "source": [
    "start = time.time()\n",
    "\n",
    "current_time = 0.0\n",
    "start_time = 0.0\n",
    "end_time = 200\n",
    "contracts = ['INTC']\n",
    "\n",
    "# ls = [(0, 0)]\n",
    "delay_order = 0.0\n",
    "delay_notification = 0.0\n",
    "\n",
    "agents, receiver_agents = [], []\n",
    "agents_delay_map = {}\n",
    "agent_ids = [1, 2]\n",
    "contract = 'INTC'\n",
    "wakeup_distribution = functools.partial(random.expovariate, 0.5)\n",
    "\n",
    "# Initialize agents\n",
    "for agent_id in agent_ids:\n",
    "    # Initialize parameters\n",
    "    if agent_id % 2 == 0:\n",
    "        price_distribution = lambda: random.normalvariate(14, 3)\n",
    "        # price_distribution = lambda: np.random.lognormal(0.5, 1)\n",
    "        direction = -1\n",
    "    else:\n",
    "        price_distribution = lambda: random.normalvariate(5, 3)\n",
    "        # price_distribution = lambda: np.random.lognormal(2, 1)\n",
    "        direction = 1\n",
    "    # Initialize agent\n",
    "    exec_type = 0  # Limit\n",
    "    identifier = 'stc_' + str(agent_id)\n",
    "    new_agent = AgentBase(identifier=identifier, strategy=StochasticStrategy,\n",
    "                          strategy_params={'identifier': identifier+'_strategy',\n",
    "                                           'wakeup_distribution': wakeup_distribution,\n",
    "                                           'direction': direction,\n",
    "                                           'price_distribution': price_distribution,\n",
    "                                           'contract': contract, 'exec_type': exec_type,\n",
    "                                           'end_time': end_time})\n",
    "    agents.append(new_agent)\n",
    "    agents_delay_map[new_agent.identifier] = 0\n",
    "    receiver_agents.append(new_agent)\n",
    "\n",
    "# Simulate\n",
    "result = simulate(current_time, start_time, end_time, agents, receiver_agents, agents_delay_map, contracts,\n",
    "              delay_order, delay_notification)\n",
    "\n",
    "# Debug\n",
    "result['orders_history'].keys()"
   ]
  },
  {
   "cell_type": "code",
   "execution_count": 13,
   "metadata": {},
   "outputs": [],
   "source": [
    "full = result['orders_history']['INTC']\n",
    "spread_list = result['orders_spread']['INTC']\n",
    "\n",
    "# full = orderbooks_map['TSLA'].state.bid_ask_table.orders_history\n",
    "# spread_list = orderbooks_map['TSLA'].state.bid_ask_table.get_spread_history()\n",
    "\n",
    "ls = [(t, [(x[0], x[1]) for x in values]) for t, values in full]\n",
    "ls_diff = [x for x in spread_list if x[1] is not None]\n",
    "ls_diff = [(t, x[1] - x[0]) for t, x in ls_diff]\n",
    "\n",
    "import pickle\n",
    "with open('snapshot_history.pkl', 'wb') as f:\n",
    "    to_pickle = {\n",
    "        'orders': ls,\n",
    "        'spreads': ls_diff\n",
    "    }\n",
    "    pickle.dump(to_pickle, f)"
   ]
  },
  {
   "cell_type": "code",
   "execution_count": null,
   "metadata": {},
   "outputs": [],
   "source": []
  },
  {
   "cell_type": "code",
   "execution_count": null,
   "metadata": {},
   "outputs": [],
   "source": []
  },
  {
   "cell_type": "code",
   "execution_count": null,
   "metadata": {},
   "outputs": [],
   "source": []
  }
 ],
 "metadata": {
  "kernelspec": {
   "display_name": "Python 2",
   "language": "python",
   "name": "python2"
  },
  "language_info": {
   "codemirror_mode": {
    "name": "ipython",
    "version": 3
   },
   "file_extension": ".py",
   "mimetype": "text/x-python",
   "name": "python",
   "nbconvert_exporter": "python",
   "pygments_lexer": "ipython3",
   "version": "3.6.9"
  }
 },
 "nbformat": 4,
 "nbformat_minor": 4
}
